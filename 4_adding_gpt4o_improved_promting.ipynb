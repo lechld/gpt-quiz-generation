{
 "cells": [
  {
   "metadata": {},
   "cell_type": "markdown",
   "source": [
    "Strategies to improve prompting\n",
    "1. Format (Markdown, YAML, etc)\n",
    "2. Act in a Role\n",
    "3. Be specific (language, emotions, etc.)\n",
    "4. Add information and data\n",
    "5. Use examples\n",
    "6. Add a process of analysis (“thinking”)\n",
    "7. Constraints (What should or shouldn’t the model do)\n",
    "8. (Use an english prompt)\n",
    "9. Redo with small changes\n",
    "\n",
    "Taking some pieces of these instructions, improve the way GPT4o creates questions.\n",
    "\n",
    "## Instruction:\n",
    "\n",
    "You are an expert in the topic \"History\". Your task is to generate diverse trivia quiz questions, with three difficulty levels: \"easy,\" \"medium,\" and \"hard\".\n",
    "Each question consists of one correct answer and three plausible wrong answers.\n",
    "\n",
    "## Example Format:\n",
    "Who was the first President of the United States?;\n",
    "Correct: George Washington;\n",
    "Incorrect: John Adams; Thomas Jefferson; Benjamin Franklin;\n",
    "\n",
    "User Input:\n",
    "\n",
    "Generate 20 easy questions\n"
   ],
   "id": "75492caaa2b2cf1e"
  }
 ],
 "metadata": {
  "kernelspec": {
   "display_name": "Python 3",
   "language": "python",
   "name": "python3"
  },
  "language_info": {
   "codemirror_mode": {
    "name": "ipython",
    "version": 2
   },
   "file_extension": ".py",
   "mimetype": "text/x-python",
   "name": "python",
   "nbconvert_exporter": "python",
   "pygments_lexer": "ipython2",
   "version": "2.7.6"
  }
 },
 "nbformat": 4,
 "nbformat_minor": 5
}
