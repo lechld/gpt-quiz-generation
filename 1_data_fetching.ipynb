{
 "cells": [
  {
   "cell_type": "code",
   "id": "d28ecd66-4965-4b28-8179-c763b102674f",
   "metadata": {
    "jupyter": {
     "is_executing": true
    },
    "scrolled": true
   },
   "source": [
    "from otdb_fetcher import OTDBFetcher\n",
    "from file_utils import save_questions\n",
    "\n",
    "from categories import QuestionCategory\n",
    "from question_type import QuestionType\n",
    "\n",
    "categories = [QuestionCategory.HISTORY, QuestionCategory.GENERAL_KNOWLEDGE, QuestionCategory.SCIENCE_NATURE]\n",
    "qtype = QuestionType.MULTIPLE_CHOICE\n",
    "\n",
    "for category in categories:        \n",
    "    questions = OTDBFetcher().fetch_all_questions_in_category(\n",
    "        category=category,\n",
    "        question_type=qtype\n",
    "    )\n",
    "\n",
    "    filename = f\"OTDB_{category.name}.json\"\n",
    "    save_questions(questions, filename)\n",
    "\n",
    "    print(f\"Saved questions for {category.name} to {filename}.\")"
   ],
   "outputs": [],
   "execution_count": null
  },
  {
   "cell_type": "code",
   "id": "7d173aa8-b621-451e-9eca-5863d9658a32",
   "metadata": {
    "scrolled": true
   },
   "source": [
    "from collections import Counter\n",
    "from file_utils import load_questions_from_file\n",
    "\n",
    "files = [\"OTDB_HISTORY.json\", \"OTDB_GENERAL_KNOWLEDGE.json\", \"OTDB_SCIENCE_NATURE.json\"]\n",
    "\n",
    "for file in files:\n",
    "    questions = load_questions_from_file(file)\n",
    "    difficulties = [q.difficulty for q in questions]\n",
    "    counts = Counter(difficulties)\n",
    "    print(f\"Difficulty counts for {file}: {counts}\")\n"
   ],
   "outputs": [],
   "execution_count": null
  },
  {
   "cell_type": "code",
   "id": "6dfc4a8d-8c72-43f1-9ada-7de0f2410ab0",
   "metadata": {
    "scrolled": true
   },
   "source": [
    "from collections import Counter\n",
    "from file_utils import load_questions_from_file\n",
    "import matplotlib.pyplot as plt\n",
    "import pandas as pd\n",
    "\n",
    "# File list\n",
    "files = [\"OTDB_HISTORY.json\", \"OTDB_GENERAL_KNOWLEDGE.json\", \"OTDB_SCIENCE_NATURE.json\"]\n",
    "\n",
    "# Initialize a dictionary to hold difficulty counts for each category\n",
    "difficulty_data = {\"Category\": [], \"Easy\": [], \"Medium\": [], \"Hard\": []}\n",
    "\n",
    "# Process each file to count difficulties\n",
    "for file in files:\n",
    "    # Extract category name from file name\n",
    "    category = file.split(\"_\")[1].replace(\".json\", \"\").replace(\"_\", \" \")\n",
    "    # Load questions and count difficulties\n",
    "    questions = load_questions_from_file(file)\n",
    "    difficulties = [q.difficulty for q in questions]\n",
    "    counts = Counter(difficulties)\n",
    "    \n",
    "    # Append data to difficulty_data\n",
    "    difficulty_data[\"Category\"].append(category)\n",
    "    difficulty_data[\"Easy\"].append(counts.get(\"easy\", 0))\n",
    "    difficulty_data[\"Medium\"].append(counts.get(\"medium\", 0))\n",
    "    difficulty_data[\"Hard\"].append(counts.get(\"hard\", 0))\n",
    "\n",
    "# Convert to DataFrame\n",
    "df = pd.DataFrame(difficulty_data)\n",
    "\n",
    "# Set the index to Category for plotting\n",
    "df.set_index(\"Category\", inplace=True)\n",
    "\n",
    "# Plotting the data as a stacked bar chart\n",
    "df.plot(kind=\"bar\", stacked=True, figsize=(10, 6))\n",
    "plt.title(\"Difficulty Counts by Category\")\n",
    "plt.xlabel(\"Category\")\n",
    "plt.ylabel(\"Number of Questions\")\n",
    "plt.xticks(rotation=45)\n",
    "plt.legend(title=\"Difficulty\")\n",
    "plt.tight_layout()\n",
    "plt.show()"
   ],
   "outputs": [],
   "execution_count": null
  }
 ],
 "metadata": {
  "kernelspec": {
   "display_name": "Python 3 (ipykernel)",
   "language": "python",
   "name": "python3"
  },
  "language_info": {
   "codemirror_mode": {
    "name": "ipython",
    "version": 3
   },
   "file_extension": ".py",
   "mimetype": "text/x-python",
   "name": "python",
   "nbconvert_exporter": "python",
   "pygments_lexer": "ipython3",
   "version": "3.12.6"
  }
 },
 "nbformat": 4,
 "nbformat_minor": 5
}
