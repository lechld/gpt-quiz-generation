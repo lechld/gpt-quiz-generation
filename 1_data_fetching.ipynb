{
 "cells": [
  {
   "cell_type": "code",
   "execution_count": 1,
   "id": "c2e6f942-b0ac-40a4-a68e-0abbdcd0ee16",
   "metadata": {},
   "outputs": [
    {
     "name": "stdout",
     "output_type": "stream",
     "text": [
      "17\n",
      "Questions about science and nature\n"
     ]
    }
   ],
   "source": [
    "from categories import QuestionCategory\n",
    "\n",
    "# Example usage\n",
    "category = QuestionCategory.SCIENCE_NATURE\n",
    "print(category.otdb_id)           # Output: 17\n",
    "print(category.llm_description)   # Output: \"Questions about science and natur"
   ]
  },
  {
   "cell_type": "code",
   "execution_count": 1,
   "id": "d28ecd66-4965-4b28-8179-c763b102674f",
   "metadata": {},
   "outputs": [
    {
     "name": "stdout",
     "output_type": "stream",
     "text": [
      "Question 1: When did construction of the Suez Canal finish?\n",
      "  1. 1850\n",
      "  2. 1859\n",
      "  3. 1860\n",
      "  4. 1869\n",
      "Correct Answer: 1869\n",
      "--------------------------------------------------\n",
      "Question 2: What was the bloodiest single-day battle during the American Civil War?\n",
      "  1. The Battle of Antietam\n",
      "  2. The Battle of Gettysburg\n",
      "  3. The Battles of Chancellorsville\n",
      "  4. The Siege of Vicksburg\n",
      "Correct Answer: The Battle of Antietam\n",
      "--------------------------------------------------\n",
      "Question 3: Which Louis was known as 'The Sun King of France'?\n",
      "  1. Louis XIII\n",
      "  2. Louis XIV\n",
      "  3. Louis XV\n",
      "  4. Louis XVI\n",
      "Correct Answer: Louis XIV\n",
      "--------------------------------------------------\n",
      "Question 4: Where and when was the first cardboard box made for industrial use?\n",
      "  1. England, 1817\n",
      "  2. England, 1917\n",
      "  3. United States, 1817\n",
      "  4. United States, 1917\n",
      "Correct Answer: England, 1817\n",
      "--------------------------------------------------\n",
      "Question 5: What was the capital of South Vietnam before the Vietnam War?\n",
      "  1. Hanoi\n",
      "  2. Ho Chi Minh City\n",
      "  3. Hue\n",
      "  4. Saigon\n",
      "Correct Answer: Saigon\n",
      "--------------------------------------------------\n"
     ]
    }
   ],
   "source": [
    "from fetch_otdb import fetch_otdb_questions, print_questions\n",
    "\n",
    "from categories import QuestionCategory\n",
    "from difficulty import Difficulty\n",
    "from question_type import QuestionType\n",
    "\n",
    "category = QuestionCategory.HISTORY\n",
    "difficulty = Difficulty.MEDIUM\n",
    "qtype = QuestionType.MULTIPLE_CHOICE\n",
    "\n",
    "# Fetch questions\n",
    "questions = fetch_otdb_questions(amount=5, category=category, difficulty=difficulty, qtype=qtype)\n",
    "\n",
    "# Print questions\n",
    "print_questions(questions)"
   ]
  },
  {
   "cell_type": "code",
   "execution_count": null,
   "id": "7d173aa8-b621-451e-9eca-5863d9658a32",
   "metadata": {},
   "outputs": [],
   "source": []
  },
  {
   "cell_type": "code",
   "execution_count": null,
   "id": "6dfc4a8d-8c72-43f1-9ada-7de0f2410ab0",
   "metadata": {},
   "outputs": [],
   "source": []
  }
 ],
 "metadata": {
  "kernelspec": {
   "display_name": "Python 3 (ipykernel)",
   "language": "python",
   "name": "python3"
  },
  "language_info": {
   "codemirror_mode": {
    "name": "ipython",
    "version": 3
   },
   "file_extension": ".py",
   "mimetype": "text/x-python",
   "name": "python",
   "nbconvert_exporter": "python",
   "pygments_lexer": "ipython3",
   "version": "3.13.1"
  }
 },
 "nbformat": 4,
 "nbformat_minor": 5
}
