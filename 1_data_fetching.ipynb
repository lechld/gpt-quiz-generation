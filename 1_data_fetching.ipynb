{
 "cells": [
  {
   "cell_type": "code",
   "execution_count": null,
   "id": "d28ecd66-4965-4b28-8179-c763b102674f",
   "metadata": {},
   "outputs": [],
   "source": [
    "from otdb_fetcher2 import OTDBFetcher\n",
    "from question import Question\n",
    "\n",
    "from file_utils import save_questions\n",
    "\n",
    "from categories import QuestionCategory\n",
    "from difficulty import Difficulty\n",
    "from question_type import QuestionType\n",
    "\n",
    "categories = [QuestionCategory.HISTORY, QuestionCategory.GENERAL_KNOWLEDGE, QuestionCategory.SCIENCE_NATURE]\n",
    "qtype = QuestionType.MULTIPLE_CHOICE\n",
    "\n",
    "for category in categories:\n",
    "    for difficulty in difficulties:\n",
    "        \n",
    "        questions = OTDBFetcher().fetch_all_questions_in_category(\n",
    "            category=category,\n",
    "            question_type=qtype\n",
    "        )\n",
    "\n",
    "        filename = f\"OTDB_{category.name}.json\"\n",
    "        save_questions(questions, filename)\n",
    "\n",
    "        print(f\"Saved questions for {category.name} ({difficulty.name}) to {filename}.\")"
   ]
  },
  {
   "cell_type": "code",
   "execution_count": null,
   "id": "7d173aa8-b621-451e-9eca-5863d9658a32",
   "metadata": {},
   "outputs": [],
   "source": []
  },
  {
   "cell_type": "code",
   "execution_count": null,
   "id": "6dfc4a8d-8c72-43f1-9ada-7de0f2410ab0",
   "metadata": {},
   "outputs": [],
   "source": []
  }
 ],
 "metadata": {
  "kernelspec": {
   "display_name": "Python 3 (ipykernel)",
   "language": "python",
   "name": "python3"
  },
  "language_info": {
   "codemirror_mode": {
    "name": "ipython",
    "version": 3
   },
   "file_extension": ".py",
   "mimetype": "text/x-python",
   "name": "python",
   "nbconvert_exporter": "python",
   "pygments_lexer": "ipython3",
   "version": "3.13.1"
  }
 },
 "nbformat": 4,
 "nbformat_minor": 5
}
